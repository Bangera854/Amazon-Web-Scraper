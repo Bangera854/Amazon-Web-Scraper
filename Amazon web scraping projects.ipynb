{
 "cells": [
  {
   "cell_type": "code",
   "execution_count": 9,
   "id": "e68ac50b",
   "metadata": {},
   "outputs": [],
   "source": [
    "from bs4 import BeautifulSoup\n",
    "import requests\n",
    "import time\n",
    "import datetime\n",
    "\n",
    "import smtplib"
   ]
  },
  {
   "cell_type": "code",
   "execution_count": 11,
   "id": "f2ae4c8a",
   "metadata": {},
   "outputs": [
    {
     "name": "stdout",
     "output_type": "stream",
     "text": [
      "\n",
      "           RYLAN Stainless Steel Microfiber Floor Cleaning Spray Mop with Removable Washable Cleaning Pad and Integrated Water Spray Mechanism,mop for Cleaning Floor,360 Degree Easy Floor Cleaning\n",
      "          \n"
     ]
    }
   ],
   "source": [
    "#Connect to website\n",
    "URL='https://www.amazon.in/Stainless-Microfiber-Removable-Integrated-mop/dp/B0CRZ9G464/ref=zg_bsnr_c_home-improvement_d_sccl_1/258-9776611-4126908?pd_rd_w=Qx1ld&content-id=amzn1.sym.7dd29d48-66c1-486c-967d-2ed40101f2ea&pf_rd_p=7dd29d48-66c1-486c-967d-2ed40101f2ea&pf_rd_r=7G28F499KH17A1KE23NC&pd_rd_wg=b2ydq&pd_rd_r=bbefa0bd-b0fb-4efe-8a17-b4966a51044f&pd_rd_i=B0CRZ9G464&psc=1'\n",
    "\n",
    "\n",
    "headers = {\"User-Agent\": 'Mozilla/5.0 (Windows NT 10.0; Win64; x64) AppleWebKit/537.36 (KHTML, like Gecko) Chrome/121.0.0.0 Safari/537.36',\"Accept-Encoding\": \"gzip, deflate, br\", \"Accept\": \"text/html,application/xhtml+xml,application/xml;q=0.9,image/avif,image/webp,image/apng,*/*;q=0.8,application/signed-exchange;v=b3;q=0.7\"}\n",
    "\n",
    "page = requests.get(URL, headers=headers)\n",
    "\n",
    "Soup1 = BeautifulSoup(page.content, \"lxml\")\n",
    "Soup2 = BeautifulSoup(Soup1.prettify(), \"html.parser\")\n",
    "\n",
    "\n",
    "\n",
    "title = Soup2.find(id = 'productTitle').get_text()\n",
    "#price = Soup2.find(class = 'a-price-whole').get_text()\n",
    "\n",
    "print(title)\n",
    "#print(price)"
   ]
  },
  {
   "cell_type": "code",
   "execution_count": 14,
   "id": "aebc6859",
   "metadata": {},
   "outputs": [
    {
     "name": "stdout",
     "output_type": "stream",
     "text": [
      "RYLAN Stainless Steel Microfiber Floor Cleaning Spray Mop with Removable Washable Cleaning Pad and Integrated Water Spray Mechanism,mop for Cleaning Floor,360 Degree Easy Floor Cleaning\n"
     ]
    }
   ],
   "source": [
    "title = title.strip()\n",
    "print(title)\n",
    "\n",
    "import csv\n",
    "\n",
    "header = ['Title','Date']\n",
    "data = [title,today]\n",
    "\n",
    "with open('Amazonwebscraperdataset.csv','w',newline='',encoding='UTF8') as f:\n",
    "    writer = csv.writer(f)\n",
    "    writer.writerow(header)\n",
    "    writer.writerow(data)"
   ]
  },
  {
   "cell_type": "code",
   "execution_count": 15,
   "id": "003eea9c",
   "metadata": {},
   "outputs": [
    {
     "name": "stdout",
     "output_type": "stream",
     "text": [
      "2024-02-18\n"
     ]
    }
   ],
   "source": [
    "import datetime\n",
    "\n",
    "today = datetime.date.today()\n",
    "\n",
    "print(today)"
   ]
  },
  {
   "cell_type": "code",
   "execution_count": 27,
   "id": "838512c7",
   "metadata": {},
   "outputs": [
    {
     "name": "stdout",
     "output_type": "stream",
     "text": [
      "  RYLAN Stainless Steel Microfiber Floor Cleaning Spray Mop with Removable Washable Cleaning Pad and Integrated Water Spray Mechanism,mop for Cleaning Floor,360 Degree Easy Floor Cleaning  2024-02-18\n",
      "0  RYLAN Stainless Steel Microfiber Floor Cleanin...                                                                                                                                         2024-02-18\n",
      "1  RYLAN Stainless Steel Microfiber Floor Cleanin...                                                                                                                                         2024-02-18\n",
      "2  RYLAN Stainless Steel Microfiber Floor Cleanin...                                                                                                                                         2024-02-18\n"
     ]
    }
   ],
   "source": [
    "import pandas as pd\n",
    "\n",
    "df = pd.read_csv(r'C:\\Users\\Sandarsh\\Documents\\Amazonwebscraperdataset.csv')\n",
    "\n",
    "print(df)"
   ]
  },
  {
   "cell_type": "code",
   "execution_count": 26,
   "id": "5a0f69ad",
   "metadata": {},
   "outputs": [],
   "source": [
    "#Appending data to the csv\n",
    "\n",
    "with open('Amazonwebscraperdataset.csv','a+',newline='',encoding='UTF8') as f:\n",
    "    writer = csv.writer(f)\n",
    "    writer.writerow(data)"
   ]
  },
  {
   "cell_type": "code",
   "execution_count": 49,
   "id": "c409586a",
   "metadata": {},
   "outputs": [],
   "source": [
    "#automating above codes\n",
    "\n",
    "def check_price():\n",
    "    #Connect to website\n",
    "    URL='https://www.amazon.in/Stainless-Microfiber-Removable-Integrated-mop/dp/B0CRZ9G464/ref=zg_bsnr_c_home-improvement_d_sccl_1/258-9776611-4126908?pd_rd_w=Qx1ld&content-id=amzn1.sym.7dd29d48-66c1-486c-967d-2ed40101f2ea&pf_rd_p=7dd29d48-66c1-486c-967d-2ed40101f2ea&pf_rd_r=7G28F499KH17A1KE23NC&pd_rd_wg=b2ydq&pd_rd_r=bbefa0bd-b0fb-4efe-8a17-b4966a51044f&pd_rd_i=B0CRZ9G464&psc=1'\n",
    "\n",
    "\n",
    "    headers = {\"User-Agent\": 'Mozilla/5.0 (Windows NT 10.0; Win64; x64) AppleWebKit/537.36 (KHTML, like Gecko) Chrome/121.0.0.0 Safari/537.36',\"Accept-Encoding\": \"gzip, deflate, br\", \"Accept\": \"text/html,application/xhtml+xml,application/xml;q=0.9,image/avif,image/webp,image/apng,*/*;q=0.8,application/signed-exchange;v=b3;q=0.7\"}\n",
    "\n",
    "    page = requests.get(URL, headers=headers)\n",
    "\n",
    "    Soup1 = BeautifulSoup(page.content, \"html.parser\")\n",
    "    Soup2 = BeautifulSoup(Soup1.prettify(), \"html.parser\")\n",
    "\n",
    "    title = Soup2.find(id = 'productTitle').get_text()\n",
    "    #price = Soup2.find(class = 'a-price-whole').get_text()\n",
    "    \n",
    "    title = title.strip()\n",
    "    \n",
    "    import datetime\n",
    "    today = datetime.date.today()\n",
    "    \n",
    "    import csv\n",
    "    header = ['Title','Date']\n",
    "    data = [title,today]\n",
    "    \n",
    "    with open('Amazonwebscraperdataset.csv','a+',newline='',encoding='UTF8') as f:\n",
    "        writer = csv.writer(f)\n",
    "        writer.writerow(data)\n"
   ]
  },
  {
   "cell_type": "code",
   "execution_count": 50,
   "id": "f0913e5c",
   "metadata": {},
   "outputs": [
    {
     "ename": "KeyboardInterrupt",
     "evalue": "",
     "output_type": "error",
     "traceback": [
      "\u001b[1;31m---------------------------------------------------------------------------\u001b[0m",
      "\u001b[1;31mKeyboardInterrupt\u001b[0m                         Traceback (most recent call last)",
      "Cell \u001b[1;32mIn[50], line 3\u001b[0m\n\u001b[0;32m      1\u001b[0m \u001b[38;5;28;01mwhile\u001b[39;00m(\u001b[38;5;28;01mTrue\u001b[39;00m):\n\u001b[0;32m      2\u001b[0m     check_price()\n\u001b[1;32m----> 3\u001b[0m     time\u001b[38;5;241m.\u001b[39msleep(\u001b[38;5;241m5\u001b[39m)\n",
      "\u001b[1;31mKeyboardInterrupt\u001b[0m: "
     ]
    }
   ],
   "source": [
    "while(True):\n",
    "    check_price()\n",
    "    time.sleep(5)\n",
    "    #time.sleep(86400) "
   ]
  },
  {
   "cell_type": "code",
   "execution_count": 51,
   "id": "eecc6f22",
   "metadata": {},
   "outputs": [
    {
     "name": "stdout",
     "output_type": "stream",
     "text": [
      "   RYLAN Stainless Steel Microfiber Floor Cleaning Spray Mop with Removable Washable Cleaning Pad and Integrated Water Spray Mechanism,mop for Cleaning Floor,360 Degree Easy Floor Cleaning  2024-02-18\n",
      "0   RYLAN Stainless Steel Microfiber Floor Cleanin...                                                                                                                                         2024-02-18\n",
      "1   RYLAN Stainless Steel Microfiber Floor Cleanin...                                                                                                                                         2024-02-18\n",
      "2   RYLAN Stainless Steel Microfiber Floor Cleanin...                                                                                                                                         2024-02-18\n",
      "3   RYLAN Stainless Steel Microfiber Floor Cleanin...                                                                                                                                         2024-02-18\n",
      "4   RYLAN Stainless Steel Microfiber Floor Cleanin...                                                                                                                                         2024-02-18\n",
      "5   RYLAN Stainless Steel Microfiber Floor Cleanin...                                                                                                                                         2024-02-18\n",
      "6   RYLAN Stainless Steel Microfiber Floor Cleanin...                                                                                                                                         2024-02-18\n",
      "7   RYLAN Stainless Steel Microfiber Floor Cleanin...                                                                                                                                         2024-02-18\n",
      "8   RYLAN Stainless Steel Microfiber Floor Cleanin...                                                                                                                                         2024-02-18\n",
      "9   RYLAN Stainless Steel Microfiber Floor Cleanin...                                                                                                                                         2024-02-18\n",
      "10  RYLAN Stainless Steel Microfiber Floor Cleanin...                                                                                                                                         2024-02-18\n",
      "11  RYLAN Stainless Steel Microfiber Floor Cleanin...                                                                                                                                         2024-02-18\n",
      "12  RYLAN Stainless Steel Microfiber Floor Cleanin...                                                                                                                                         2024-02-18\n",
      "13  RYLAN Stainless Steel Microfiber Floor Cleanin...                                                                                                                                         2024-02-18\n",
      "14  RYLAN Stainless Steel Microfiber Floor Cleanin...                                                                                                                                         2024-02-18\n",
      "15  RYLAN Stainless Steel Microfiber Floor Cleanin...                                                                                                                                         2024-02-18\n",
      "16  RYLAN Stainless Steel Microfiber Floor Cleanin...                                                                                                                                         2024-02-18\n",
      "17  RYLAN Stainless Steel Microfiber Floor Cleanin...                                                                                                                                         2024-02-18\n",
      "18  RYLAN Stainless Steel Microfiber Floor Cleanin...                                                                                                                                         2024-02-18\n",
      "19  RYLAN Stainless Steel Microfiber Floor Cleanin...                                                                                                                                         2024-02-18\n",
      "20  RYLAN Stainless Steel Microfiber Floor Cleanin...                                                                                                                                         2024-02-18\n",
      "21  RYLAN Stainless Steel Microfiber Floor Cleanin...                                                                                                                                         2024-02-18\n",
      "22  RYLAN Stainless Steel Microfiber Floor Cleanin...                                                                                                                                         2024-02-18\n",
      "23  RYLAN Stainless Steel Microfiber Floor Cleanin...                                                                                                                                         2024-02-18\n"
     ]
    }
   ],
   "source": [
    "import pandas as pd\n",
    "\n",
    "df = pd.read_csv(r'C:\\Users\\Sandarsh\\Documents\\Amazonwebscraperdataset.csv')\n",
    "\n",
    "print(df)"
   ]
  },
  {
   "cell_type": "code",
   "execution_count": null,
   "id": "c0ef1fb0",
   "metadata": {},
   "outputs": [],
   "source": [
    "# just for fun\n",
    "\n",
    "\"\"\"def send_mail():\n",
    "    server = smtplib.SMTP_SSL('smtp.gmail.com',465)\n",
    "    server.ehlo()\n",
    "    #server.starttls()\n",
    "    server.ehlo()\n",
    "    server.login('sandarshbangera@gmail.com','xxxxxxxxxxxxxx')\n",
    "    \n",
    "    subject = \"Now is your chance to buy!\"\n",
    "    body = \"This is the moment we have been waiting for. Now is your chance to pick up the product of your dreams. Don't mess it up! Link here: \" \"\n",
    "   \n",
    "    msg = f\"Subject: {subject}\\n\\n{body}\"\n",
    "    \n",
    "    server.sendmail(\n",
    "        'sandarshbangera@gmail.com',\n",
    "        msg\n",
    "     \n",
    "    )\n",
    "    \n",
    "if(price < 140):\n",
    "    send_mail()\n",
    "    \n",
    "    \"\"\""
   ]
  }
 ],
 "metadata": {
  "kernelspec": {
   "display_name": "Python 3 (ipykernel)",
   "language": "python",
   "name": "python3"
  },
  "language_info": {
   "codemirror_mode": {
    "name": "ipython",
    "version": 3
   },
   "file_extension": ".py",
   "mimetype": "text/x-python",
   "name": "python",
   "nbconvert_exporter": "python",
   "pygments_lexer": "ipython3",
   "version": "3.11.5"
  }
 },
 "nbformat": 4,
 "nbformat_minor": 5
}
